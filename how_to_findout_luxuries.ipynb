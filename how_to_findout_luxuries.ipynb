{
  "nbformat": 4,
  "nbformat_minor": 0,
  "metadata": {
    "colab": {
      "name": "how_to_findout_luxuries.ipynb",
      "version": "0.3.2",
      "provenance": [],
      "collapsed_sections": [],
      "toc_visible": true,
      "include_colab_link": true
    },
    "kernelspec": {
      "name": "python3",
      "display_name": "Python 3"
    }
  },
  "cells": [
    {
      "cell_type": "markdown",
      "metadata": {
        "id": "view-in-github",
        "colab_type": "text"
      },
      "source": [
        "<a href=\"https://colab.research.google.com/github/doohong91/2018_Lpoint/blob/master/how_to_findout_luxuries.ipynb\" target=\"_parent\"><img src=\"https://colab.research.google.com/assets/colab-badge.svg\" alt=\"Open In Colab\"/></a>"
      ]
    },
    {
      "metadata": {
        "id": "kI8LN2CsQZeP",
        "colab_type": "text"
      },
      "cell_type": "markdown",
      "source": [
        "# How to findout luxury brands\n",
        "- 명품의 조건 / 기준\n",
        "  1. Scarity & Price\n",
        "  2. Brand history\n",
        "  3. Product quality\n",
        "\n",
        "*The Strategist blog([link](http://soob.me/publy-project/)), PUBLY magazine([link](https://publy.co/set/170))*"
      ]
    },
    {
      "metadata": {
        "id": "1rg_lF7hLAKY",
        "colab_type": "text"
      },
      "cell_type": "markdown",
      "source": [
        "## Preprocessing"
      ]
    },
    {
      "metadata": {
        "id": "ac1rn_KqQQyx",
        "colab_type": "code",
        "outputId": "b8e25656-8abc-4640-e03d-a5b92559fec4",
        "colab": {
          "base_uri": "https://localhost:8080/",
          "height": 287
        }
      },
      "cell_type": "code",
      "source": [
        "!pip install --force https://github.com/chengs/tqdm/archive/colab.zip"
      ],
      "execution_count": 3,
      "outputs": [
        {
          "output_type": "stream",
          "text": [
            "Collecting https://github.com/chengs/tqdm/archive/colab.zip\n",
            "  Downloading https://github.com/chengs/tqdm/archive/colab.zip\n",
            "\u001b[K     | 481kB 9.3MB/s\n",
            "Building wheels for collected packages: tqdm\n",
            "  Running setup.py bdist_wheel for tqdm ... \u001b[?25l-\b \bdone\n",
            "\u001b[?25h  Stored in directory: /tmp/pip-ephem-wheel-cache-6rr_r1s4/wheels/41/18/ee/d5dd158441b27965855b1bbae03fa2d8a91fe645c01b419896\n",
            "Successfully built tqdm\n",
            "\u001b[31mspacy 2.0.18 has requirement numpy>=1.15.0, but you'll have numpy 1.14.6 which is incompatible.\u001b[0m\n",
            "\u001b[31mpymc3 3.6 has requirement joblib<0.13.0, but you'll have joblib 0.13.0 which is incompatible.\u001b[0m\n",
            "\u001b[31mfeaturetools 0.4.1 has requirement pandas>=0.23.0, but you'll have pandas 0.22.0 which is incompatible.\u001b[0m\n",
            "Installing collected packages: tqdm\n",
            "  Found existing installation: tqdm 4.28.1\n",
            "    Uninstalling tqdm-4.28.1:\n",
            "      Successfully uninstalled tqdm-4.28.1\n",
            "Successfully installed tqdm-4.28.1\n"
          ],
          "name": "stdout"
        }
      ]
    },
    {
      "metadata": {
        "id": "dCZ4CFXSLBRk",
        "colab_type": "code",
        "outputId": "923a6f1d-531e-4a7f-bb9e-9666880c4084",
        "colab": {
          "base_uri": "https://localhost:8080/",
          "height": 127
        }
      },
      "cell_type": "code",
      "source": [
        "import pandas as pd\n",
        "import numpy as np\n",
        "import matplotlib.pyplot as plt\n",
        "import requests\n",
        "from bs4 import BeautifulSoup as bs\n",
        "from tqdm import tqdm_notebook as tqdm\n",
        "import platform\n",
        "import json\n",
        "from google.colab import drive \n",
        "import urllib.request\n",
        "from pandas.io.json import json_normalize\n",
        "drive.mount('/content/gdrive')\n",
        "\n",
        "\n",
        "%matplotlib inline\n",
        "\n",
        "# path = \"c:/Windows/Fonts/malgun.ttf\"\n",
        "# from matplotlib import font_manager,rc\n",
        "# if platform.system() == 'Windows' :\n",
        "#     font_name = font_manager.FontProperties(fname=path).get_name()\n",
        "#     rc('font', family=font_name)\n",
        "# plt.rcParams['axes.unicode_minus'] = False"
      ],
      "execution_count": 4,
      "outputs": [
        {
          "output_type": "stream",
          "text": [
            "Go to this URL in a browser: https://accounts.google.com/o/oauth2/auth?client_id=947318989803-6bn6qk8qdgf4n4g3pfee6491hc0brc4i.apps.googleusercontent.com&redirect_uri=urn%3Aietf%3Awg%3Aoauth%3A2.0%3Aoob&scope=email%20https%3A%2F%2Fwww.googleapis.com%2Fauth%2Fdocs.test%20https%3A%2F%2Fwww.googleapis.com%2Fauth%2Fdrive%20https%3A%2F%2Fwww.googleapis.com%2Fauth%2Fdrive.photos.readonly%20https%3A%2F%2Fwww.googleapis.com%2Fauth%2Fpeopleapi.readonly&response_type=code\n",
            "\n",
            "Enter your authorization code:\n",
            "··········\n",
            "Mounted at /content/gdrive\n"
          ],
          "name": "stdout"
        }
      ]
    },
    {
      "metadata": {
        "id": "aBgjrEMaLVUE",
        "colab_type": "code",
        "outputId": "c756f2bb-0386-467c-9151-d13f7071369a",
        "colab": {
          "base_uri": "https://localhost:8080/",
          "height": 53
        }
      },
      "cell_type": "code",
      "source": [
        "prod = pd.read_csv('gdrive/My Drive/공모전/엘포인트/data/Pruduct.csv')\n",
        "mast = pd.read_csv('gdrive/My Drive/공모전/엘포인트/data/Master.csv')\n",
        "# sess = pd.read_csv('gdrive/My Drive/공모전/엘포인트/Session.csv')\n",
        "# sear = pd.read_csv('gdrive/My Drive/공모전/엘포인트/Search1.csv')\n",
        "# cust = pd.read_csv('gdrive/My Drive/공모전/엘포인트/Custom.csv')"
      ],
      "execution_count": 9,
      "outputs": [
        {
          "output_type": "stream",
          "text": [
            "/usr/local/lib/python3.6/dist-packages/IPython/core/interactiveshell.py:2718: DtypeWarning: Columns (7) have mixed types. Specify dtype option on import or set low_memory=False.\n",
            "  interactivity=interactivity, compiler=compiler, result=result)\n"
          ],
          "name": "stderr"
        }
      ]
    },
    {
      "metadata": {
        "id": "C-AnxQpsOtZ6",
        "colab_type": "text"
      },
      "cell_type": "markdown",
      "source": [
        "#### 자료형 변환\n",
        "- **object** to **integer**"
      ]
    },
    {
      "metadata": {
        "id": "7wrQ8mkGLbQZ",
        "colab_type": "code",
        "outputId": "c2240e97-134d-4266-9f24-51a1fa32bcdb",
        "colab": {
          "base_uri": "https://localhost:8080/",
          "height": 197
        }
      },
      "cell_type": "code",
      "source": [
        "prod['PD_BUY_AM'] = pd.to_numeric(prod['PD_BUY_AM'].str.replace(',',''))\n",
        "prod['PD_BUY_CT'][29649] = 1440\n",
        "prod['PD_BUY_CT'][34105] = 1387\n",
        "prod['PD_BUY_CT'] = pd.to_numeric(prod['PD_BUY_CT'])\n",
        "\n",
        "# sess['TOT_SESS_HR_V'] = pd.to_numeric(sess['TOT_SESS_HR_V'].str.replace(',',''))\n",
        "# sess['SESS_HR_PAG_VIEW'] = sess['TOT_SESS_HR_V'] / sess['TOT_PAG_VIEW_CT']"
      ],
      "execution_count": 10,
      "outputs": [
        {
          "output_type": "stream",
          "text": [
            "/usr/local/lib/python3.6/dist-packages/ipykernel_launcher.py:2: SettingWithCopyWarning: \n",
            "A value is trying to be set on a copy of a slice from a DataFrame\n",
            "\n",
            "See the caveats in the documentation: http://pandas.pydata.org/pandas-docs/stable/indexing.html#indexing-view-versus-copy\n",
            "  \n",
            "/usr/local/lib/python3.6/dist-packages/ipykernel_launcher.py:3: SettingWithCopyWarning: \n",
            "A value is trying to be set on a copy of a slice from a DataFrame\n",
            "\n",
            "See the caveats in the documentation: http://pandas.pydata.org/pandas-docs/stable/indexing.html#indexing-view-versus-copy\n",
            "  This is separate from the ipykernel package so we can avoid doing imports until\n"
          ],
          "name": "stderr"
        }
      ]
    },
    {
      "metadata": {
        "id": "KOEfQp2uO9-i",
        "colab_type": "text"
      },
      "cell_type": "markdown",
      "source": [
        "#### 브랜드명 수정\n",
        "- 브랜드명에서 **불필요한 단어** 제거(예. 향수, 괄호, 공백 등)\n",
        "- **잘못입력된** 브랜드명 수정"
      ]
    },
    {
      "metadata": {
        "id": "9SaR3OIRpJX9",
        "colab_type": "code",
        "colab": {}
      },
      "cell_type": "code",
      "source": [
        "prod['PD_BRA_NM'] = prod['PD_BRA_NM'].map(lambda x: x.split('(')[0].replace('[','').replace(']','').replace(' ',''))\n",
        "prod.loc[prod['PD_BRA_NM']=='MADE IN ITALY','PD_BRA_NM'] = 'V73'\n",
        "prod.loc[prod['PD_BRA_NM'].isin(['1909535','19330640825']),'PD_BRA_NM'] = 'KL'\n",
        "prod.loc[prod['PD_BRA_NM']=='19386640906','PD_BRA_NM'] = '지이크'\n",
        "prod.loc[prod['PD_BRA_NM'].isin(['1907517','1924113','1906469','1906471','1902295','1908178','1881326','1924116','1906492','1902287']),'PD_BRA_NM'] = 'CC collect'\n",
        "prod.loc[prod['PD_BRA_NM'].isin(['19379580904','19364580830','1872892','1898551','18703070925','19359410830']),'PD_BRA_NM'] = '더아이잗'\n",
        "prod.loc[prod['PD_BRA_NM'].isin(['1904418','1896342']),'PD_BRA_NM'] = '보니스팍스'\n",
        "prod.loc[prod['PD_BRA_NM'].isin(['1912506','1912518']),'PD_BRA_NM'] = '리스트'\n",
        "prod.loc[prod['PD_BRA_NM']=='19326280823','PD_BRA_NM'] = 'ENC'\n",
        "prod.loc[prod['PD_BRA_NM'].isin(['19266920905','19266920905','19266920905']),'PD_BRA_NM'] = '요하넥스'\n",
        "prod.loc[prod['PD_BRA_NM']=='1913802','PD_BRA_NM'] = '꼼빠니아'\n",
        "prod.loc[prod['PD_BRA_NM']=='1917759','PD_BRA_NM'] = '인디안'"
      ],
      "execution_count": 0,
      "outputs": []
    },
    {
      "metadata": {
        "id": "_aQ-XlAdSg0u",
        "colab_type": "code",
        "colab": {}
      },
      "cell_type": "code",
      "source": [
        "prod_mast = pd.merge(prod, mast, how = 'inner', on=['PD_C'])\n",
        "\n",
        "# df[df['PD_BUY_CT']>=150000].sort_values(by=['PD_BUY_AM'],ascending=False)\n",
        "cate_list= ['패션잡화','여성의류','화장품/뷰티케어','남성의류']\n",
        "prod_mast1 = prod_mast[prod_mast['CLAC1_NM'].isin(cate_list)]"
      ],
      "execution_count": 0,
      "outputs": []
    },
    {
      "metadata": {
        "id": "Y-uWOQQSlmvX",
        "colab_type": "code",
        "outputId": "9885586e-6ae1-4dba-9758-39614a770952",
        "colab": {
          "base_uri": "https://localhost:8080/",
          "height": 49
        }
      },
      "cell_type": "code",
      "source": [
        "l = ['18703070925','1872892','1881326','1896342','1898551','1902287','1902295','1904418','1906469','1906471','1906492','1907517','1908178',\n",
        "     '1912506','1912518','1913802', '1917759','1924113','1924116','19266920905','19326280823','19359410830','19364580830','19379580904']\n",
        "prod_mast1[prod_mast1['PD_BRA_NM'].isin(l)]"
      ],
      "execution_count": 13,
      "outputs": [
        {
          "output_type": "execute_result",
          "data": {
            "text/html": [
              "<div>\n",
              "<style scoped>\n",
              "    .dataframe tbody tr th:only-of-type {\n",
              "        vertical-align: middle;\n",
              "    }\n",
              "\n",
              "    .dataframe tbody tr th {\n",
              "        vertical-align: top;\n",
              "    }\n",
              "\n",
              "    .dataframe thead th {\n",
              "        text-align: right;\n",
              "    }\n",
              "</style>\n",
              "<table border=\"1\" class=\"dataframe\">\n",
              "  <thead>\n",
              "    <tr style=\"text-align: right;\">\n",
              "      <th></th>\n",
              "      <th>CLNT_ID</th>\n",
              "      <th>SESS_ID</th>\n",
              "      <th>HITS_SEQ</th>\n",
              "      <th>PD_C</th>\n",
              "      <th>PD_ADD_NM</th>\n",
              "      <th>PD_BRA_NM</th>\n",
              "      <th>PD_BUY_AM</th>\n",
              "      <th>PD_BUY_CT</th>\n",
              "      <th>PD_NM</th>\n",
              "      <th>CLAC1_NM</th>\n",
              "      <th>CLAC2_NM</th>\n",
              "      <th>CLAC3_NM</th>\n",
              "    </tr>\n",
              "  </thead>\n",
              "  <tbody>\n",
              "  </tbody>\n",
              "</table>\n",
              "</div>"
            ],
            "text/plain": [
              "Empty DataFrame\n",
              "Columns: [CLNT_ID, SESS_ID, HITS_SEQ, PD_C, PD_ADD_NM, PD_BRA_NM, PD_BUY_AM, PD_BUY_CT, PD_NM, CLAC1_NM, CLAC2_NM, CLAC3_NM]\n",
              "Index: []"
            ]
          },
          "metadata": {
            "tags": []
          },
          "execution_count": 13
        }
      ]
    },
    {
      "metadata": {
        "id": "QSGa-m8FHSzR",
        "colab_type": "text"
      },
      "cell_type": "markdown",
      "source": [
        "## Sacrity & Price\n"
      ]
    },
    {
      "metadata": {
        "id": "76MsXfzfLUHh",
        "colab_type": "text"
      },
      "cell_type": "markdown",
      "source": [
        "### By Price\n",
        "- 가격을 통해 명품을 판별하자!!\n",
        "(카테고리별로 평균가격이 상위 25% 이상인 브랜드)"
      ]
    },
    {
      "metadata": {
        "id": "c_XL2gStOI_B",
        "colab_type": "code",
        "colab": {}
      },
      "cell_type": "code",
      "source": [
        "df = prod_mast1.groupby(['CLAC1_NM','PD_BRA_NM']).agg({'PD_BUY_AM':'mean','PD_BUY_CT':'sum'}).reset_index()\n",
        "df['PD_BUY_AM'] = round(df['PD_BUY_AM'])"
      ],
      "execution_count": 0,
      "outputs": []
    },
    {
      "metadata": {
        "id": "GeI-1Shd2RUE",
        "colab_type": "code",
        "colab": {}
      },
      "cell_type": "code",
      "source": [
        "df_c = df[df['CLAC1_NM'].isin(['여성의류','남성의류'])].groupby(['PD_BRA_NM']).agg({'PD_BUY_AM':'mean','PD_BUY_CT':'sum'}).sort_values(by=['PD_BUY_AM'], ascending=False).reset_index()\n",
        "df_f = df[df['CLAC1_NM']=='패션잡화'].sort_values(by=['PD_BUY_AM'], ascending=False).reset_index()[['PD_BRA_NM','PD_BUY_AM','PD_BUY_CT']]\n",
        "df_b = df[df['CLAC1_NM']=='화장품/뷰티케어'].sort_values(by=['PD_BUY_AM'], ascending=False).reset_index()[['PD_BRA_NM','PD_BUY_AM','PD_BUY_CT']]\n",
        "\n",
        "brn_c_price = list(df_c[df_c['PD_BUY_AM']>=df_c['PD_BUY_AM'].quantile(0.75)]['PD_BRA_NM'])\n",
        "brn_f_price = list(df_f[df_f['PD_BUY_AM']>=df_f['PD_BUY_AM'].quantile(0.75)]['PD_BRA_NM'])\n",
        "brn_b_price = list(df_b[df_b['PD_BUY_AM']>=df_b['PD_BUY_AM'].quantile(0.75)]['PD_BRA_NM'])"
      ],
      "execution_count": 0,
      "outputs": []
    },
    {
      "metadata": {
        "id": "Rt8tX-MIG2XC",
        "colab_type": "code",
        "outputId": "a0ba84d5-2ea7-415e-d075-d0fb9747e1fb",
        "colab": {
          "base_uri": "https://localhost:8080/",
          "height": 35
        }
      },
      "cell_type": "code",
      "source": [
        "brand_price = brn_c_price\n",
        "brand_price.extend(brn_f_price)\n",
        "brand_price.extend(brn_b_price)\n",
        "brand_price = list(set(brand_price))\n",
        "len(brand_price)"
      ],
      "execution_count": 17,
      "outputs": [
        {
          "output_type": "execute_result",
          "data": {
            "text/plain": [
              "1103"
            ]
          },
          "metadata": {
            "tags": []
          },
          "execution_count": 17
        }
      ]
    },
    {
      "metadata": {
        "id": "b3guZ4yYldBN",
        "colab_type": "code",
        "colab": {}
      },
      "cell_type": "code",
      "source": [
        "brand_price"
      ],
      "execution_count": 0,
      "outputs": []
    },
    {
      "metadata": {
        "id": "UMGKTx8mIk_6",
        "colab_type": "text"
      },
      "cell_type": "markdown",
      "source": [
        "### By Sacrity\n",
        "- 같은 브랜드를 다른 쇼핑몰에서 팔지 않는다면 희소성있는 브랜드?"
      ]
    },
    {
      "metadata": {
        "id": "3K64KXu-Ls0a",
        "colab_type": "text"
      },
      "cell_type": "markdown",
      "source": [
        "## Product Quality\n",
        "- 상품의 질을 객과적으로 판단하고 수치화하기 어렵다;;;;;;;;"
      ]
    },
    {
      "metadata": {
        "id": "rnRuvcoHHvHY",
        "colab_type": "text"
      },
      "cell_type": "markdown",
      "source": [
        "### By Quality\n",
        "- 인지도/평판을 통해 대체할 수 있지 않을까?\n",
        "- 가격이 높은 브랜드들의 인지도를 알아보자!!"
      ]
    },
    {
      "metadata": {
        "id": "ctzgmkXBHuKr",
        "colab_type": "code",
        "colab": {}
      },
      "cell_type": "code",
      "source": [
        "client_id = \"\"\n",
        "client_secret = \"\"\n",
        "url = \"https://openapi.naver.com/v1/datalab/search\""
      ],
      "execution_count": 0,
      "outputs": []
    },
    {
      "metadata": {
        "id": "N_cvsdYbFZVI",
        "colab_type": "code",
        "colab": {}
      },
      "cell_type": "code",
      "source": [
        "bra_list = []\n",
        "for brand in brand_price:\n",
        "  bra_list.append({\"groupName\": brand ,\"keywords\": [brand]})\n",
        "bra_list[0], bra_list[4] = bra_list[4], bra_list[0]"
      ],
      "execution_count": 0,
      "outputs": []
    },
    {
      "metadata": {
        "id": "Tn29oz_HtrJG",
        "colab_type": "code",
        "outputId": "e8d401b4-1019-489e-91e4-85c58e77c083",
        "colab": {
          "base_uri": "https://localhost:8080/",
          "height": 107
        }
      },
      "cell_type": "code",
      "source": [
        "bra_trend = []\n",
        "lists = [bra_list[0]]\n",
        "for i in tqdm(range(1,len(bra_list[:]),4)):\n",
        "  b_trends = []\n",
        "  lists.extend(bra_list[i:i+4])\n",
        "  body = '{\\\"startDate\\\":\\\"2016-01-01\\\",\\\"endDate\\\":\\\"2019-01-30\\\",\\\"timeUnit\\\":\\\"month\\\",\\\"keywordGroups\\\":%s}'%json.dumps(lists)\n",
        "  request = urllib.request.Request(url)\n",
        "  request.add_header(\"X-Naver-Client-Id\",client_id)\n",
        "  request.add_header(\"X-Naver-Client-Secret\",client_secret)\n",
        "  request.add_header(\"Content-Type\",\"application/json\")\n",
        "  response = urllib.request.urlopen(request, data=body.encode(\"utf-8\"))\n",
        "  rescode = response.getcode()\n",
        "  response_body = response.read().decode('utf-8')\n",
        "  trends = json.loads(response_body)['results']\n",
        "  for t in trends:\n",
        "    b_trends.append({\n",
        "        'title':t['title'],\n",
        "        'ratio':np.mean([d['ratio'] for d in t['data']])\n",
        "    })\n",
        "  bra_trend.extend(b_trends)\n",
        "  max_b =  max(b_trends, key=lambda x:x['ratio'])\n",
        "  lists = list(filter(lambda x:x['groupName']==max_b['title'], lists))"
      ],
      "execution_count": 97,
      "outputs": [
        {
          "output_type": "display_data",
          "data": {
            "text/html": [
              "<div style=\"display:flex;flex-direction:row;\"><span></span><progress style='margin:2px 4px;' max='276' value='276'></progress>100% 276/276 [04:17&lt;00:00,  1.13it/s]</div>"
            ],
            "text/plain": [
              "<tqdm._fake_ipywidgets.HBox object>"
            ]
          },
          "metadata": {
            "tags": []
          }
        },
        {
          "output_type": "stream",
          "text": [
            "/usr/local/lib/python3.6/dist-packages/numpy/core/fromnumeric.py:2957: RuntimeWarning: Mean of empty slice.\n",
            "  out=out, **kwargs)\n",
            "/usr/local/lib/python3.6/dist-packages/numpy/core/_methods.py:80: RuntimeWarning: invalid value encountered in double_scalars\n",
            "  ret = ret.dtype.type(ret / rcount)\n"
          ],
          "name": "stderr"
        }
      ]
    },
    {
      "metadata": {
        "id": "pSgU-c18Uc_c",
        "colab_type": "code",
        "colab": {}
      },
      "cell_type": "code",
      "source": [
        "brand_mp = json_normalize(bra_trend).drop_duplicates().reset_index()"
      ],
      "execution_count": 0,
      "outputs": []
    },
    {
      "metadata": {
        "id": "zz3bOmSPRsDR",
        "colab_type": "code",
        "colab": {}
      },
      "cell_type": "code",
      "source": [
        "brand_mp = brand_mp[brand_mp['ratio']>=brand_mp['ratio'].quantile(0.75)]"
      ],
      "execution_count": 0,
      "outputs": []
    },
    {
      "metadata": {
        "id": "T3AedP2OVp0w",
        "colab_type": "text"
      },
      "cell_type": "markdown",
      "source": [
        "#### 명품리스트\n",
        "- 추출한 결과물을 보니 썩 만족스럽진 않다.\n",
        "- 롯데의 리스트를 쓰는 것이 나을 것 같다.\n",
        "- 그래도 혹시 모르니 일단 저장\n"
      ]
    },
    {
      "metadata": {
        "id": "Q8CEiybkqoX6",
        "colab_type": "code",
        "colab": {}
      },
      "cell_type": "code",
      "source": [
        "brand_mp[['title','ratio']].to_csv('gdrive/My Drive/공모전/엘포인트/data/my_luxury_list.csv',index=False)"
      ],
      "execution_count": 0,
      "outputs": []
    },
    {
      "metadata": {
        "id": "BRnaFkqIWZFD",
        "colab_type": "text"
      },
      "cell_type": "markdown",
      "source": [
        "##### 부록\n",
        "- 네이버 API를 이용해서 브랜드 + 중분류 검색어트렌드를 카운트하는 코드\n",
        "  - group"
      ]
    },
    {
      "metadata": {
        "id": "FJUYg4ciYSMw",
        "colab_type": "code",
        "colab": {}
      },
      "cell_type": "code",
      "source": [
        "df1 = prod_mast1.groupby(['CLAC2_NM','CLAC3_NM','PD_BRA_NM']).agg({'PD_BUY_AM':'mean','PD_BUY_CT':'sum'}).reset_index()"
      ],
      "execution_count": 0,
      "outputs": []
    },
    {
      "metadata": {
        "id": "SwIO-hNDYyZ_",
        "colab_type": "code",
        "colab": {}
      },
      "cell_type": "code",
      "source": [
        "df1 = df1[df1['PD_BRA_NM'].isin(brand_lotte)]"
      ],
      "execution_count": 0,
      "outputs": []
    },
    {
      "metadata": {
        "id": "OdWHtZP6QeCr",
        "colab_type": "code",
        "colab": {
          "base_uri": "https://localhost:8080/",
          "height": 539
        },
        "outputId": "1479093b-2b68-4f27-cd67-27a15ed55179"
      },
      "cell_type": "code",
      "source": [
        "bra_list = []\n",
        "for category in tqdm(df1['CLAC2_NM'].drop_duplicates()):\n",
        "  for brand in tqdm(df1[df1['CLAC2_NM'] == category]['PD_BRA_NM'].drop_duplicates()):\n",
        "    a = [brand + category]\n",
        "    b = [brand + item for item in df1[df1['CLAC2_NM'] == category]['CLAC3_NM'].drop_duplicates()]\n",
        "    b.extend(a)\n",
        "    bra_list.append({\"groupName\": a[0],\n",
        "                    \"keywords\": b\n",
        "                    })\n",
        "\n"
      ],
      "execution_count": 153,
      "outputs": [
        {
          "output_type": "display_data",
          "data": {
            "text/html": [
              "<div style=\"display:flex;flex-direction:row;\"><span></span><progress style='margin:2px 4px;' max='28' value='28'></progress>100% 28/28 [00:01&lt;00:00, 15.43it/s]</div>"
            ],
            "text/plain": [
              "<tqdm._fake_ipywidgets.HBox object>"
            ]
          },
          "metadata": {
            "tags": []
          }
        },
        {
          "output_type": "display_data",
          "data": {
            "text/html": [
              "<div style=\"display:flex;flex-direction:row;\"><span></span><progress style='margin:2px 4px;' max='25' value='25'></progress>100% 25/25 [00:00&lt;00:00, 524.50it/s]</div>"
            ],
            "text/plain": [
              "<tqdm._fake_ipywidgets.HBox object>"
            ]
          },
          "metadata": {
            "tags": []
          }
        },
        {
          "output_type": "display_data",
          "data": {
            "text/html": [
              "<div style=\"display:flex;flex-direction:row;\"><span></span><progress style='margin:2px 4px;' max='25' value='25'></progress>100% 25/25 [00:00&lt;00:00, 624.56it/s]</div>"
            ],
            "text/plain": [
              "<tqdm._fake_ipywidgets.HBox object>"
            ]
          },
          "metadata": {
            "tags": []
          }
        },
        {
          "output_type": "display_data",
          "data": {
            "text/html": [
              "<div style=\"display:flex;flex-direction:row;\"><span></span><progress style='margin:2px 4px;' max='11' value='11'></progress>100% 11/11 [00:00&lt;00:00, 486.52it/s]</div>"
            ],
            "text/plain": [
              "<tqdm._fake_ipywidgets.HBox object>"
            ]
          },
          "metadata": {
            "tags": []
          }
        },
        {
          "output_type": "display_data",
          "data": {
            "text/html": [
              "<div style=\"display:flex;flex-direction:row;\"><span></span><progress style='margin:2px 4px;' max='13' value='13'></progress>100% 13/13 [00:00&lt;00:00, 497.64it/s]</div>"
            ],
            "text/plain": [
              "<tqdm._fake_ipywidgets.HBox object>"
            ]
          },
          "metadata": {
            "tags": []
          }
        },
        {
          "output_type": "display_data",
          "data": {
            "text/html": [
              "<div style=\"display:flex;flex-direction:row;\"><span></span><progress style='margin:2px 4px;' max='32' value='32'></progress>100% 32/32 [00:00&lt;00:00, 675.48it/s]</div>"
            ],
            "text/plain": [
              "<tqdm._fake_ipywidgets.HBox object>"
            ]
          },
          "metadata": {
            "tags": []
          }
        },
        {
          "output_type": "display_data",
          "data": {
            "text/html": [
              "<div style=\"display:flex;flex-direction:row;\"><span></span><progress style='margin:2px 4px;' max='37' value='37'></progress>100% 37/37 [00:00&lt;00:00, 614.75it/s]</div>"
            ],
            "text/plain": [
              "<tqdm._fake_ipywidgets.HBox object>"
            ]
          },
          "metadata": {
            "tags": []
          }
        },
        {
          "output_type": "display_data",
          "data": {
            "text/html": [
              "<div style=\"display:flex;flex-direction:row;\"><span></span><progress style='margin:2px 4px;' max='30' value='30'></progress>100% 30/30 [00:00&lt;00:00, 613.67it/s]</div>"
            ],
            "text/plain": [
              "<tqdm._fake_ipywidgets.HBox object>"
            ]
          },
          "metadata": {
            "tags": []
          }
        },
        {
          "output_type": "display_data",
          "data": {
            "text/html": [
              "<div style=\"display:flex;flex-direction:row;\"><span></span><progress style='margin:2px 4px;' max='69' value='69'></progress>100% 69/69 [00:00&lt;00:00, 487.82it/s]</div>"
            ],
            "text/plain": [
              "<tqdm._fake_ipywidgets.HBox object>"
            ]
          },
          "metadata": {
            "tags": []
          }
        },
        {
          "output_type": "display_data",
          "data": {
            "text/html": [
              "<div style=\"display:flex;flex-direction:row;\"><span></span><progress style='margin:2px 4px;' max='40' value='40'></progress>100% 40/40 [00:00&lt;00:00, 671.77it/s]</div>"
            ],
            "text/plain": [
              "<tqdm._fake_ipywidgets.HBox object>"
            ]
          },
          "metadata": {
            "tags": []
          }
        },
        {
          "output_type": "display_data",
          "data": {
            "text/html": [
              "<div style=\"display:flex;flex-direction:row;\"><span></span><progress style='margin:2px 4px;' max='33' value='33'></progress>100% 33/33 [00:00&lt;00:00, 679.76it/s]</div>"
            ],
            "text/plain": [
              "<tqdm._fake_ipywidgets.HBox object>"
            ]
          },
          "metadata": {
            "tags": []
          }
        },
        {
          "output_type": "display_data",
          "data": {
            "text/html": [
              "<div style=\"display:flex;flex-direction:row;\"><span></span><progress style='margin:2px 4px;' max='40' value='40'></progress>100% 40/40 [00:00&lt;00:00, 637.80it/s]</div>"
            ],
            "text/plain": [
              "<tqdm._fake_ipywidgets.HBox object>"
            ]
          },
          "metadata": {
            "tags": []
          }
        },
        {
          "output_type": "display_data",
          "data": {
            "text/html": [
              "<div style=\"display:flex;flex-direction:row;\"><span></span><progress style='margin:2px 4px;' max='53' value='53'></progress>100% 53/53 [00:00&lt;00:00, 652.41it/s]</div>"
            ],
            "text/plain": [
              "<tqdm._fake_ipywidgets.HBox object>"
            ]
          },
          "metadata": {
            "tags": []
          }
        },
        {
          "output_type": "display_data",
          "data": {
            "text/html": [
              "<div style=\"display:flex;flex-direction:row;\"><span></span><progress style='margin:2px 4px;' max='78' value='78'></progress>100% 78/78 [00:00&lt;00:00, 442.69it/s]</div>"
            ],
            "text/plain": [
              "<tqdm._fake_ipywidgets.HBox object>"
            ]
          },
          "metadata": {
            "tags": []
          }
        },
        {
          "output_type": "display_data",
          "data": {
            "text/html": [
              "<div style=\"display:flex;flex-direction:row;\"><span></span><progress style='margin:2px 4px;' max='41' value='41'></progress>100% 41/41 [00:00&lt;00:00, 589.01it/s]</div>"
            ],
            "text/plain": [
              "<tqdm._fake_ipywidgets.HBox object>"
            ]
          },
          "metadata": {
            "tags": []
          }
        },
        {
          "output_type": "display_data",
          "data": {
            "text/html": [
              "<div style=\"display:flex;flex-direction:row;\"><span></span><progress style='margin:2px 4px;' max='36' value='36'></progress>100% 36/36 [00:00&lt;00:00, 580.33it/s]</div>"
            ],
            "text/plain": [
              "<tqdm._fake_ipywidgets.HBox object>"
            ]
          },
          "metadata": {
            "tags": []
          }
        },
        {
          "output_type": "display_data",
          "data": {
            "text/html": [
              "<div style=\"display:flex;flex-direction:row;\"><span></span><progress style='margin:2px 4px;' max='46' value='46'></progress>100% 46/46 [00:00&lt;00:00, 592.57it/s]</div>"
            ],
            "text/plain": [
              "<tqdm._fake_ipywidgets.HBox object>"
            ]
          },
          "metadata": {
            "tags": []
          }
        },
        {
          "output_type": "display_data",
          "data": {
            "text/html": [
              "<div style=\"display:flex;flex-direction:row;\"><span></span><progress style='margin:2px 4px;' max='30' value='30'></progress>100% 30/30 [00:00&lt;00:00, 611.14it/s]</div>"
            ],
            "text/plain": [
              "<tqdm._fake_ipywidgets.HBox object>"
            ]
          },
          "metadata": {
            "tags": []
          }
        },
        {
          "output_type": "display_data",
          "data": {
            "text/html": [
              "<div style=\"display:flex;flex-direction:row;\"><span></span><progress style='margin:2px 4px;' max='16' value='16'></progress>100% 16/16 [00:00&lt;00:00, 549.02it/s]</div>"
            ],
            "text/plain": [
              "<tqdm._fake_ipywidgets.HBox object>"
            ]
          },
          "metadata": {
            "tags": []
          }
        },
        {
          "output_type": "display_data",
          "data": {
            "text/html": [
              "<div style=\"display:flex;flex-direction:row;\"><span></span><progress style='margin:2px 4px;' max='13' value='13'></progress>100% 13/13 [00:00&lt;00:00, 506.71it/s]</div>"
            ],
            "text/plain": [
              "<tqdm._fake_ipywidgets.HBox object>"
            ]
          },
          "metadata": {
            "tags": []
          }
        },
        {
          "output_type": "display_data",
          "data": {
            "text/html": [
              "<div style=\"display:flex;flex-direction:row;\"><span></span><progress style='margin:2px 4px;' max='21' value='21'></progress>100% 21/21 [00:00&lt;00:00, 588.71it/s]</div>"
            ],
            "text/plain": [
              "<tqdm._fake_ipywidgets.HBox object>"
            ]
          },
          "metadata": {
            "tags": []
          }
        },
        {
          "output_type": "display_data",
          "data": {
            "text/html": [
              "<div style=\"display:flex;flex-direction:row;\"><span></span><progress style='margin:2px 4px;' max='33' value='33'></progress>100% 33/33 [00:00&lt;00:00, 680.60it/s]</div>"
            ],
            "text/plain": [
              "<tqdm._fake_ipywidgets.HBox object>"
            ]
          },
          "metadata": {
            "tags": []
          }
        },
        {
          "output_type": "display_data",
          "data": {
            "text/html": [
              "<div style=\"display:flex;flex-direction:row;\"><span></span><progress style='margin:2px 4px;' max='41' value='41'></progress>100% 41/41 [00:00&lt;00:00, 604.09it/s]</div>"
            ],
            "text/plain": [
              "<tqdm._fake_ipywidgets.HBox object>"
            ]
          },
          "metadata": {
            "tags": []
          }
        },
        {
          "output_type": "display_data",
          "data": {
            "text/html": [
              "<div style=\"display:flex;flex-direction:row;\"><span></span><progress style='margin:2px 4px;' max='8' value='8'></progress>100% 8/8 [00:00&lt;00:00, 414.70it/s]</div>"
            ],
            "text/plain": [
              "<tqdm._fake_ipywidgets.HBox object>"
            ]
          },
          "metadata": {
            "tags": []
          }
        },
        {
          "output_type": "display_data",
          "data": {
            "text/html": [
              "<div style=\"display:flex;flex-direction:row;\"><span></span><progress style='margin:2px 4px;' max='8' value='8'></progress>100% 8/8 [00:00&lt;00:00, 461.65it/s]</div>"
            ],
            "text/plain": [
              "<tqdm._fake_ipywidgets.HBox object>"
            ]
          },
          "metadata": {
            "tags": []
          }
        },
        {
          "output_type": "display_data",
          "data": {
            "text/html": [
              "<div style=\"display:flex;flex-direction:row;\"><span></span><progress style='margin:2px 4px;' max='4' value='4'></progress>100% 4/4 [00:00&lt;00:00, 308.64it/s]</div>"
            ],
            "text/plain": [
              "<tqdm._fake_ipywidgets.HBox object>"
            ]
          },
          "metadata": {
            "tags": []
          }
        },
        {
          "output_type": "display_data",
          "data": {
            "text/html": [
              "<div style=\"display:flex;flex-direction:row;\"><span></span><progress style='margin:2px 4px;' max='17' value='17'></progress>100% 17/17 [00:00&lt;00:00, 616.57it/s]</div>"
            ],
            "text/plain": [
              "<tqdm._fake_ipywidgets.HBox object>"
            ]
          },
          "metadata": {
            "tags": []
          }
        },
        {
          "output_type": "display_data",
          "data": {
            "text/html": [
              "<div style=\"display:flex;flex-direction:row;\"><span></span><progress style='margin:2px 4px;' max='41' value='41'></progress>100% 41/41 [00:00&lt;00:00, 675.38it/s]</div>"
            ],
            "text/plain": [
              "<tqdm._fake_ipywidgets.HBox object>"
            ]
          },
          "metadata": {
            "tags": []
          }
        },
        {
          "output_type": "display_data",
          "data": {
            "text/html": [
              "<div style=\"display:flex;flex-direction:row;\"><span></span><progress style='margin:2px 4px;' max='66' value='66'></progress>100% 66/66 [00:00&lt;00:00, 605.47it/s]</div>"
            ],
            "text/plain": [
              "<tqdm._fake_ipywidgets.HBox object>"
            ]
          },
          "metadata": {
            "tags": []
          }
        }
      ]
    },
    {
      "metadata": {
        "id": "uBh3BCisZI1Q",
        "colab_type": "code",
        "colab": {}
      },
      "cell_type": "code",
      "source": [
        "bra_list"
      ],
      "execution_count": 0,
      "outputs": []
    },
    {
      "metadata": {
        "id": "UdPTEtGWZkph",
        "colab_type": "code",
        "outputId": "4ce32b30-1e34-4869-fe82-8b8ac8b42862",
        "colab": {
          "base_uri": "https://localhost:8080/",
          "height": 55
        }
      },
      "cell_type": "code",
      "source": [
        "bra_trend = []\n",
        "lists = [bra_list[0]]\n",
        "for i in tqdm(range(1,len(bra_list[:]),4)):\n",
        "  b_trends = []\n",
        "  lists.extend(bra_list[i:i+4])\n",
        "  body = '{\\\"startDate\\\":\\\"2016-01-01\\\",\\\"endDate\\\":\\\"2019-01-30\\\",\\\"timeUnit\\\":\\\"month\\\",\\\"keywordGroups\\\":%s}'%json.dumps(lists)\n",
        "  request = urllib.request.Request(url)\n",
        "  request.add_header(\"X-Naver-Client-Id\",client_id)\n",
        "  request.add_header(\"X-Naver-Client-Secret\",client_secret)\n",
        "  request.add_header(\"Content-Type\",\"application/json\")\n",
        "  response = urllib.request.urlopen(request, data=body.encode(\"utf-8\"))\n",
        "  rescode = response.getcode()\n",
        "  response_body = response.read().decode('utf-8')\n",
        "  trends = json.loads(response_body)['results']\n",
        "  for t in trends:\n",
        "    b_trends.append({\n",
        "        'title':t['title'],\n",
        "        'ratio':np.mean([d['ratio'] for d in t['data']])\n",
        "    })\n",
        "  bra_trend.extend(b_trends)\n",
        "  max_b =  max(b_trends, key=lambda x:x['ratio'])\n",
        "  lists = list(filter(lambda x:x['groupName']==max_b['title'], lists))"
      ],
      "execution_count": 0,
      "outputs": [
        {
          "output_type": "stream",
          "text": [
            "{\"startDate\":\"2018-04-01\",\"endDate\":\"2018-09-30\",\"timeUnit\":\"date\",\"results\":[{\"title\":\"루키버드\",\"keywords\":[\"루키버드 명품\",\"명품 루키버드\"],\"data\":[]},{\"title\":\"닥스레이디스\",\"keywords\":[\"닥스레이디스 명품\",\"명품 닥스레이디스\"],\"data\":[]},{\"title\":\"아이엠지프리미엄\",\"keywords\":[\"아이엠지프리미엄 명품\",\"명품 아이엠지프리미엄\"],\"data\":[]},{\"title\":\"ALBERTO FERMANI\",\"keywords\":[\"ALBERTO FERMANI 명품\",\"명품 ALBERTO FERMANI\"],\"data\":[]},{\"title\":\"알레그리\",\"keywords\":[\"알레그리 명품\",\"명품 알레그리\"],\"data\":[]}]}\n"
          ],
          "name": "stdout"
        }
      ]
    },
    {
      "metadata": {
        "id": "XqpcW9_5LuvQ",
        "colab_type": "text"
      },
      "cell_type": "markdown",
      "source": [
        "## Brand History\n",
        "- 브랜드의 역사를 알아내기 힘들다..."
      ]
    },
    {
      "metadata": {
        "id": "ldI7VBuOL8_P",
        "colab_type": "text"
      },
      "cell_type": "markdown",
      "source": [
        "### By Brand\n",
        "- 롯데에서는 어떤 브랜드를 명품으로 선정했을까?\n",
        "- 이 정보를 참고하자!!!"
      ]
    },
    {
      "metadata": {
        "id": "XZTG_mc7Lu_v",
        "colab_type": "code",
        "outputId": "2d94395b-e8be-40fe-cd23-3ee42bc7d940",
        "colab": {
          "base_uri": "https://localhost:8080/",
          "height": 55
        }
      },
      "cell_type": "code",
      "source": [
        "url_csm = 'http://www.lotte.com/display/searchBrandInitialReNew.lotte?upr_disp_no=1692074&kor_eng_sct_cd=&sch_nm=&sch_nm_fortis='\n",
        "\n",
        "res = requests.get(url_csm).text\n",
        "soup = bs(res, 'html.parser').find('div',{'class':'group'})\n",
        "words_csm = []\n",
        "for alpha in soup.find_all('li'):\n",
        "  for word in alpha.find_all('li'):\n",
        "    words_csm.extend(word.text.replace(')','').replace(' ','').split('('))\n",
        "print(words_csm)"
      ],
      "execution_count": 84,
      "outputs": [
        {
          "output_type": "stream",
          "text": [
            "['겔랑', '꼬달리', '끌레드뽀보떼', '니콜라이', '닐스야드', '닥터자르트', '달팡', '더사가오브수', '더센트오프디파쳐', '데코르테', '델라롬', '디어달리아', '딥티크', '라메르', '라보라토리오올파티보', '라비오뜨', '라프레리', '랑방', '랑콤', '랩시리즈', '로라메르시에', '로베르트피게', '록시땅', '르꽁뚜아르뒤뱅', '르네휘테르', '리리코스', '리엔케이', '메이크업포에버', '메종프란시스커정', '멜비타', '몰튼브라운', '무코타', '미우미우', '미키모토코스메틱', '바닐라코', '바비브라운', '바이레도', '베네피트', '벨포트', '부르조아', '불가리', '블리스', '비디비치', '비오템', '빌리프', '산심', '산타마리아노벨라', '샤넬', '샹테카이', '설화수', '세르주루텐', '숨37˚', '슈에무라', '스틸라', '시세이도', '시슬리', '시에로코스메틱', '쌍빠', '씨앤피알엑스', '아닉구딸', '아모레퍼시픽', '아베다', '아이뽀', '아쿠아디파르마', '아틀리에코롱', '안나수이', '어딕션', '어반디케이', '에르바리오토스카노', '에르보리앙', '에스쁘아', '에스티로더', '에어린', '엘리자베스아덴', '오리진스', '오휘', '윈뉘어발리', '이금희피부밥', '이솝', '이오시카', '입생로랑', '정샘물뷰티', '조말론런던', 'JoMaloneLondon', '조르지오아르마니', '주디스리버', '쥴라이', '쥴리크', '질스튜어트', '향수', '츄파춥스뷰티', '크리니크', '크리드', '클라란스', '클라리소닉', '키엘', '탄', '토리버치', '톰포드', '투쿨포스쿨', '트리아뷰티', '펜할리곤스', '폴앤조', '프라나롬', '프라다', '프레데릭말', '프레쉬', '프리메라', '필로소피', '하이코스퍼퓸', '헤라', '헤어리추얼바이시슬리', '후', 'CEOParfums', 'DIOR', 'DIORBACKSTAGE', 'M.A.C', 'NARS', 'SK-II', 'VDL', 'VT코스메틱', '3CE', '아닉구딸', '아모레퍼시픽', '아베다', '아이뽀', '안나수이', '어딕션', '에어린', '이솝', '바닐라코', '바비브라운', '바이레도', '베네피트', '벨포트', '부르조아', '불가리', '비오템', '꼬달리', '샤넬', '샹테카이', '씨앤피알엑스', '크리니크', '크리드', '클라란스', 'CEOParfums', '닥터자르트', '달팡', '데코르테', '델라롬', '디어달리아', '딥티크', 'DIOR', 'DIORBACKSTAGE', '빌리프', '에르바리오토스카노', '에스쁘아', '에스티로더', '엘리자베스아덴', '프레데릭말', '프레쉬', '겔랑', '조르지오아르마니', '헤라', '헤어리추얼바이시슬리', '정샘물뷰티', '조말론런던', 'JoMaloneLondon', '주디스리버', '쥴라이', '쥴리크', '질스튜어트', '향수', '이금희피부밥', '키엘', '라메르', '라보라토리오올파티보', '라비오뜨', '라프레리', '랑방', '랑콤', '랩시리즈', '록시땅', '리리코스', '메이크업포에버', '무코타', '미우미우', '미키모토코스메틱', 'M.A.C', '니콜라이', '닐스야드', 'NARS', '오리진스', '오휘', '펜할리곤스', '폴앤조', '프라나롬', '르네휘테르', '리엔케이', 'RMK', '설화수', '세르주루텐', '숨37˚', '슈에무라', '스틸라', '시세이도', '시슬리', '쌍빠', '하이코스퍼퓸', 'SK-II', '더사가오브수', '탄', '톰포드', '트리아뷰티', '후', '3CE', 'VDL', '입생로랑', '아쿠아디파르마', '아틀리에코롱', '블리스', '끌레드뽀보떼', '츄파춥스뷰티', '클라리소닉', '에르보리앙', '이오시카', '로라메르시에', '르꽁뚜아르뒤뱅', '메종프란시스커정', '멜비타', '몰튼브라운', '프라다', '프리메라', '필로소피', '로베르트피게', '산심', '산타마리아노벨라', '시에로코스메틱', '더센트오프디파쳐', '토리버치', '투쿨포스쿨', '어반디케이', '윈뉘어발리', '비디비치', 'VT코스메틱']\n"
          ],
          "name": "stdout"
        }
      ]
    },
    {
      "metadata": {
        "id": "LBvG70Q1dtBh",
        "colab_type": "code",
        "outputId": "ccfb8f8d-5fcc-4072-ae23-442d33dde7e4",
        "colab": {
          "base_uri": "https://localhost:8080/",
          "height": 55
        }
      },
      "cell_type": "code",
      "source": [
        "url_lux = 'http://www.lotte.com/display/searchBrandInitialReNew.lotte?upr_disp_no=5407978&kor_eng_sct_cd=&sch_nm=&sch_nm_fortis='\n",
        "\n",
        "res = requests.get(url_lux).text\n",
        "soup = bs(res, 'html.parser').find('div',{'class':'group'})\n",
        "words_lux = []\n",
        "for alpha in soup.find_all('li'):\n",
        "  for word in alpha.find_all('li'):\n",
        "    words_lux.append(word.text.split('(')[0].replace(' ',''))\n",
        "print(words_lux)"
      ],
      "execution_count": 85,
      "outputs": [
        {
          "output_type": "stream",
          "text": [
            "['게스', '겐조', '노미네이션', '닥스', '더블엠', '라도', '러브캣', '러브캣비쥬', '레노마', '로이드', '로즈몽', '로즈몽', '루이까또즈', '루이까또즈', '루첸리', '리타모니카', '마리아꾸르끼', '마리앤잭', '마이클코어스', '마크바이마크제이콥스', '메트로시티', '메트로시티', '메트로시티', '몬데인', '몰리즈', '미니골드', '미쉘에블랑', '바쵸바치', '베이비지', '뷰', '브룩스브라더스', '비너스', '비비안', '비비안웨스트우드', '비체', '샤링', '순토', '스와로브스키', '스와치', '스타일러스', '스톤헨지', '시티즌', '아가타', '아가타', '아르키메데스', '아이그너', '아이그너', '아쿠아스큐텀', '에스티듀퐁', '엘르', '엠포리오아르마니', '올리비아버튼', '융한스', '제이에스티나', '지샥', '질스튜어트', '캘빈클라인', '캘빈클라인', '킨트', '토마스사보', '토마스사보', '티르리르', '티쏘', '페라가모', '프레드릭콘스탄트', '프린세스', '해밀턴', '휴고보스', 'DKNY', '아가타', '아가타', '아르키메데스', '아이그너', '아이그너', '아쿠아스큐텀', '바쵸바치', '베이비지', '브룩스브라더스', '비체', '시티즌', '캘빈클라인', '캘빈클라인', '닥스', '더블엠', 'DKNY', '엘르', '엠포리오아르마니', '페라가모', '프레드릭콘스탄트', '게스', '지샥', '해밀턴', '휴고보스', '메트로시티', '융한스', '제이에스티나', '질스튜어트', '겐조', '킨트', '러브캣', '러브캣비쥬', '루이까또즈', '루첸리', '마리아꾸르끼', '마리앤잭', '마이클코어스', '마크바이마크제이콥스', '메트로시티', '몬데인', '몰리즈', '미니골드', '미쉘에블랑', '노미네이션', '올리비아버튼', '프린세스', '라도', '레노마', '로즈몽', '로즈몽', '리타모니카', '샤링', '순토', '스와로브스키', '스와치', '스타일러스', '스톤헨지', '에스티듀퐁', '토마스사보', '토마스사보', '티르리르', '티쏘', '뷰', '비너스', '비비안', '비비안웨스트우드', '로이드', '루이까또즈', '메트로시티']\n"
          ],
          "name": "stdout"
        }
      ]
    },
    {
      "metadata": {
        "id": "lEL80kivdtDf",
        "colab_type": "code",
        "outputId": "e97eda8b-815e-427f-8387-a7dc512d4ca7",
        "colab": {
          "base_uri": "https://localhost:8080/",
          "height": 55
        }
      },
      "cell_type": "code",
      "source": [
        "url_clc = 'http://www.lotte.com/display/searchBrandInitialReNew.lotte?upr_disp_no=5559034&kor_eng_sct_cd=&sch_nm=&sch_nm_fortis='\n",
        "\n",
        "res = requests.get(url_clc).text\n",
        "soup = bs(res, 'html.parser').find('div',{'class':'group'})\n",
        "words_clc = []\n",
        "for alpha in soup.find_all('li'):\n",
        "  for word in alpha.find_all('li'):\n",
        "    words_clc.extend(word.text.replace(')','').replace(' ','').split('('))\n",
        "print(words_clc)"
      ],
      "execution_count": 87,
      "outputs": [
        {
          "output_type": "stream",
          "text": [
            "['겐조', 'KENZO', '골든구스', 'GOLDENGOOSE', '꼼데가르송', 'CommedesGarcons', '끌로에', 'CHLOE', '노비스', 'NOBIS', '닐바렛', 'neilbarrett', '듀베티카', 'duvetica', '디스퀘어드2', 'DSQUARED2', '레페토', 'Lepetto', '릭오웬스', 'RICKOWENS', '마르니', 'MARNI', '마크제이콥스', 'MarcJacobs', '막스마라', 'MaxMara', '멀버리', 'Mulberry', '몽블랑', 'MONTBLANC', '몽클레어', 'Moncler', '무스너클', 'MOOSEKNUCKLES', '미우미우', 'MIUMIU', '발렌시아가', 'BALENCIAGA', '발렌티노', 'VALENTINO', '발망', 'BALMAIN', '보테가베네타', 'BOTTEGAVENETA', '생로랑', 'SAINTLAURENT', '셀린느', 'CELINE', '스텔라메카트니', 'StellaMcCartney', '스톤아일랜드', 'STONEISLAND', '스튜어트와이츠먼', 'StuartWeitzman', '아크네', 'Acne', '안야힌드마치', 'ANYAHINDMARCH', '알렉산더맥퀸', 'ALEXANDERMCQUEEN', '알렉산더왕', 'ALEXANDERWANG', '에르노', 'herno', '에트로', 'ETRO', '올라카일리', 'OrlaKiely', '이자벨마랑', 'ISABELMARANT', '자넬라토', 'ZANELLATO', '지방시', 'GIVENCHY', '커먼프로젝트', 'COMMONPROJECTS', '코치', 'COACH', '키아라페라그니', 'chiaraferragni', '토리버치', 'TORYBURCH', '톰브라운', 'THOMBROWNE', '투미', 'TUMI', '폴스미스', 'Paulsmith', '프라다', 'PRADA', '프로엔자슐러', 'proenzaschouler', '피에르아르디', 'pierrehardy', '필립모델', 'PHILIPPEMODEL', '아크네', 'Acne', '안야힌드마치', 'ANYAHINDMARCH', '알렉산더맥퀸', 'ALEXANDERMCQUEEN', '알렉산더왕', 'ALEXANDERWANG', '발렌시아가', 'BALENCIAGA', '보테가베네타', 'BOTTEGAVENETA', '끌로에', 'CHLOE', '셀린느', 'CELINE', '커먼프로젝트', 'COMMONPROJECTS', '코치', 'COACH', '키아라페라그니', 'chiaraferragni', '디스퀘어드2', 'DSQUARED2', '에트로', 'ETRO', '골든구스', 'GOLDENGOOSE', '지방시', 'GIVENCHY', '에르노', 'herno', '이자벨마랑', 'ISABELMARANT', '겐조', 'KENZO', '마르니', 'MARNI', '마크제이콥스', 'MarcJacobs', '막스마라', 'MaxMara', '멀버리', 'Mulberry', '무스너클', 'MOOSEKNUCKLES', '닐바렛', 'neilbarrett', '올라카일리', 'OrlaKiely', '폴스미스', 'Paulsmith', '프라다', 'PRADA', '생로랑', 'SAINTLAURENT', '스텔라메카트니', 'StellaMcCartney', '스톤아일랜드', 'STONEISLAND', '스튜어트와이츠먼', 'StuartWeitzman', '톰브라운', 'THOMBROWNE', '투미', 'TUMI', '자넬라토', 'ZANELLATO', '발망', 'BALMAIN', '꼼데가르송', 'CommedesGarcons', '듀베티카', 'duvetica', '몽블랑', 'MONTBLANC', '몽클레어', 'Moncler', '미우미우', 'MIUMIU', '노비스', 'NOBIS', '프로엔자슐러', 'proenzaschouler', '피에르아르디', 'pierrehardy', '필립모델', 'PHILIPPEMODEL', '레페토', 'Lepetto', '릭오웬스', 'RICKOWENS', '토리버치', 'TORYBURCH', '발렌티노', 'VALENTINO']\n"
          ],
          "name": "stdout"
        }
      ]
    },
    {
      "metadata": {
        "id": "DA4UQlhye1ix",
        "colab_type": "code",
        "outputId": "2e4af05e-917f-4fcd-a72f-b282260e2811",
        "colab": {
          "base_uri": "https://localhost:8080/",
          "height": 35
        }
      },
      "cell_type": "code",
      "source": [
        "brand_lotte = words_csm\n",
        "brand_lotte.extend(words_lux)\n",
        "brand_lotte.extend(words_clc)\n",
        "brand_lotte = list(set(brand_lotte))\n",
        "len(brand_lotte)"
      ],
      "execution_count": 133,
      "outputs": [
        {
          "output_type": "execute_result",
          "data": {
            "text/plain": [
              "275"
            ]
          },
          "metadata": {
            "tags": []
          },
          "execution_count": 133
        }
      ]
    },
    {
      "metadata": {
        "id": "Zg07lPBAMrd5",
        "colab_type": "code",
        "colab": {}
      },
      "cell_type": "code",
      "source": [
        "brand_lotte = pd.Series(brand_lotte)"
      ],
      "execution_count": 0,
      "outputs": []
    },
    {
      "metadata": {
        "id": "kS0I-r6ZNVJt",
        "colab_type": "code",
        "colab": {}
      },
      "cell_type": "code",
      "source": [
        "brand_lotte"
      ],
      "execution_count": 0,
      "outputs": []
    },
    {
      "metadata": {
        "id": "qlFpKwdlMGoC",
        "colab_type": "code",
        "colab": {}
      },
      "cell_type": "code",
      "source": [
        "brand_lotte.to_csv(\"gdrive/My Drive/공모전/엘포인트/data/lotte_luxury_list.csv\",index = False, header = ['BRA_NM'])"
      ],
      "execution_count": 0,
      "outputs": []
    },
    {
      "metadata": {
        "id": "p4yxkhCwTCyS",
        "colab_type": "text"
      },
      "cell_type": "markdown",
      "source": [
        "## Luxury Brand List\n",
        "- 혹시 몰라서 만들긴 한다.....\n",
        "- 두가지 리스트에 공통적으로 등장한 명품 브랜드 리스트 생성\n",
        "   - 기준에 따라 추출한 명품 리스트\n",
        "   - 롯데에서 선정한 명품 리스트\n"
      ]
    },
    {
      "metadata": {
        "id": "o5exfWoTTB7A",
        "colab_type": "code",
        "colab": {}
      },
      "cell_type": "code",
      "source": [
        "lotte_list = set(brand_lotte)\n",
        "my_list=set(brand_mp['title'])\n",
        "\n",
        "lux_list = list(lotte_list.intersection(my_list))"
      ],
      "execution_count": 0,
      "outputs": []
    },
    {
      "metadata": {
        "id": "idxfV0VjNxhy",
        "colab_type": "code",
        "colab": {
          "base_uri": "https://localhost:8080/",
          "height": 35
        },
        "outputId": "f3a52b85-70b8-430f-f1ff-1cff3b90f0ab"
      },
      "cell_type": "code",
      "source": [
        "len(lux_list)"
      ],
      "execution_count": 121,
      "outputs": [
        {
          "output_type": "execute_result",
          "data": {
            "text/plain": [
              "78"
            ]
          },
          "metadata": {
            "tags": []
          },
          "execution_count": 121
        }
      ]
    },
    {
      "metadata": {
        "id": "mGaOZtn4UgQv",
        "colab_type": "code",
        "colab": {
          "base_uri": "https://localhost:8080/",
          "height": 1421
        },
        "outputId": "a2667590-f755-4b8c-cecf-915e07251fc4"
      },
      "cell_type": "code",
      "source": [
        "lux_list"
      ],
      "execution_count": 122,
      "outputs": [
        {
          "output_type": "execute_result",
          "data": {
            "text/plain": [
              "['마크제이콥스',\n",
              " '생로랑',\n",
              " '로즈몽',\n",
              " '프레드릭콘스탄트',\n",
              " '폴스미스',\n",
              " '발망',\n",
              " '입생로랑',\n",
              " '브룩스브라더스',\n",
              " '이자벨마랑',\n",
              " '시슬리',\n",
              " '알렉산더맥퀸',\n",
              " '에트로',\n",
              " '코치',\n",
              " '발렌티노',\n",
              " '클라란스',\n",
              " '메트로시티',\n",
              " '헤라',\n",
              " '에르노',\n",
              " '리리코스',\n",
              " '바비브라운',\n",
              " '랑콤',\n",
              " '시티즌',\n",
              " '프레쉬',\n",
              " '조르지오아르마니',\n",
              " '샤넬',\n",
              " '겐조',\n",
              " '에스티로더',\n",
              " '겔랑',\n",
              " '달팡',\n",
              " '몽블랑',\n",
              " '마이클코어스',\n",
              " '랩시리즈',\n",
              " '제이에스티나',\n",
              " '멀버리',\n",
              " '이솝',\n",
              " '비비안웨스트우드',\n",
              " '러브캣',\n",
              " '발렌시아가',\n",
              " '레페토',\n",
              " '커먼프로젝트',\n",
              " '지샥',\n",
              " '막스마라',\n",
              " '산타마리아노벨라',\n",
              " '톰포드',\n",
              " '투미',\n",
              " '보테가베네타',\n",
              " '티쏘',\n",
              " '랑방',\n",
              " '톰브라운',\n",
              " '프린세스',\n",
              " '토리버치',\n",
              " '바이레도',\n",
              " '무스너클',\n",
              " '리엔케이',\n",
              " '미우미우',\n",
              " '캘빈클라인',\n",
              " '시세이도',\n",
              " '프라다',\n",
              " '몽클레어',\n",
              " '페라가모',\n",
              " '키엘',\n",
              " '셀린느',\n",
              " '끌로에',\n",
              " '질스튜어트',\n",
              " '오휘',\n",
              " '지방시',\n",
              " '스톤아일랜드',\n",
              " '설화수',\n",
              " '릭오웬스',\n",
              " '불가리',\n",
              " '알렉산더왕',\n",
              " '비오템',\n",
              " '아크네',\n",
              " '순토',\n",
              " '꼼데가르송',\n",
              " '골든구스',\n",
              " '해밀턴',\n",
              " '후']"
            ]
          },
          "metadata": {
            "tags": []
          },
          "execution_count": 122
        }
      ]
    },
    {
      "metadata": {
        "id": "XWF0Iyz-VXtI",
        "colab_type": "code",
        "colab": {}
      },
      "cell_type": "code",
      "source": [
        ""
      ],
      "execution_count": 0,
      "outputs": []
    }
  ]
}